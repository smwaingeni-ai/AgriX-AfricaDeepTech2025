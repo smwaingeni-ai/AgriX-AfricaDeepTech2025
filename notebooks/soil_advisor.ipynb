{
  "nbformat": 4,
  "nbformat_minor": 0,
  "metadata": {
    "colab": {
      "provenance": [],
      "authorship_tag": "ABX9TyNqqigmydXQTQEPrGC/fina",
      "include_colab_link": true
    },
    "kernelspec": {
      "name": "python3",
      "display_name": "Python 3"
    },
    "language_info": {
      "name": "python"
    }
  },
  "cells": [
    {
      "cell_type": "markdown",
      "metadata": {
        "id": "view-in-github",
        "colab_type": "text"
      },
      "source": [
        "<a href=\"https://colab.research.google.com/github/smwaingeni-ai/AgriX-AfricaDeepTech2025/blob/main/notebooks/soil_advisor.ipynb\" target=\"_parent\"><img src=\"https://colab.research.google.com/assets/colab-badge.svg\" alt=\"Open In Colab\"/></a>"
      ]
    },
    {
      "cell_type": "code",
      "execution_count": null,
      "metadata": {
        "id": "plptwOmSmZXA"
      },
      "outputs": [],
      "source": [
        "# Soil Advisor Logic\n",
        "\n",
        "soil_deficiency_knowledge = {\n",
        "    'yellow leaves': {\n",
        "        'nutrient': 'Nitrogen Deficiency',\n",
        "        'advice': 'Apply a nitrogen-rich fertilizer such as urea or composted manure.'\n",
        "    },\n",
        "    'purple leaves': {\n",
        "        'nutrient': 'Phosphorus Deficiency',\n",
        "        'advice': 'Apply phosphorus fertilizer like DAP (Diammonium phosphate).'\n",
        "    },\n",
        "    'leaf burn edges': {\n",
        "        'nutrient': 'Potassium Deficiency',\n",
        "        'advice': 'Apply muriate of potash (MOP) or wood ash.'\n",
        "    },\n",
        "    'stunted growth': {\n",
        "        'nutrient': 'General Nutrient Deficiency',\n",
        "        'advice': 'Apply a balanced NPK fertilizer (e.g., 10-10-10).'\n",
        "    },\n",
        "    'interveinal chlorosis': {\n",
        "        'nutrient': 'Magnesium Deficiency',\n",
        "        'advice': 'Apply Epsom salt (magnesium sulfate).'\n",
        "    }\n",
        "}\n",
        "\n",
        "def soil_advisor_engine(symptom_description):\n",
        "    for keyword, info in soil_deficiency_knowledge.items():\n",
        "        if keyword in symptom_description.lower():\n",
        "            return {\n",
        "                \"symptom\": keyword,\n",
        "                \"nutrient_issue\": info[\"nutrient\"],\n",
        "                \"recommendation\": info[\"advice\"]\n",
        "            }\n",
        "    return {\n",
        "        \"symptom\": \"Unknown\",\n",
        "        \"nutrient_issue\": \"Not Detected\",\n",
        "        \"recommendation\": \"Symptom not recognized. Please consult an expert or provide more detail.\"\n",
        "    }\n",
        "\n",
        "# Example usage\n",
        "examples = [\n",
        "    'My maize has yellow leaves',\n",
        "    'I see purple leaves on my crop',\n",
        "    'Edges of leaves appear burnt',\n",
        "    'Plants are not growing well',\n",
        "    'There is yellowing between the veins'\n",
        "]\n",
        "\n",
        "for example in examples:\n",
        "    result = soil_advisor_engine(example)\n",
        "    print(f\"\\nInput: {example}\\nResult: {result}\")\n"
      ]
    }
  ]
}