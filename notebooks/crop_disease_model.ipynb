# Crop AI model training + TFLite conversion
