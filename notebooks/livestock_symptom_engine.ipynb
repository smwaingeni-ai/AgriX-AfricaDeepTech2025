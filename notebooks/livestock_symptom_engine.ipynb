{
  "nbformat": 4,
  "nbformat_minor": 0,
  "metadata": {
    "colab": {
      "provenance": [],
      "authorship_tag": "ABX9TyNMmPUJMulzGtCbthNQ39LY",
      "include_colab_link": true
    },
    "kernelspec": {
      "name": "python3",
      "display_name": "Python 3"
    },
    "language_info": {
      "name": "python"
    }
  },
  "cells": [
    {
      "cell_type": "markdown",
      "metadata": {
        "id": "view-in-github",
        "colab_type": "text"
      },
      "source": [
        "<a href=\"https://colab.research.google.com/github/smwaingeni-ai/AgriX-AfricaDeepTech2025/blob/main/notebooks/livestock_symptom_engine.ipynb\" target=\"_parent\"><img src=\"https://colab.research.google.com/assets/colab-badge.svg\" alt=\"Open In Colab\"/></a>"
      ]
    },
    {
      "cell_type": "code",
      "execution_count": 5,
      "metadata": {
        "id": "BCVUqtSFfsZM"
      },
      "outputs": [],
      "source": [
        "# Livestock Symptom Detection Engine\n",
        "\n",
        "def livestock_symptom_engine(symptoms):\n",
        "    \"\"\"\n",
        "    Match user symptoms to known disease symptom rules.\n",
        "    Args:\n",
        "        symptoms (str): Comma-separated input like \"fever, salivation\"\n",
        "    Returns:\n",
        "        dict: Disease names and matched symptom keywords\n",
        "    \"\"\"\n",
        "    rules = {\n",
        "        \"Foot and Mouth Disease\": [\"fever\", \"salivation\", \"lameness\", \"blisters\"],\n",
        "        \"Anthrax\": [\"sudden death\", \"bleeding\", \"convulsions\"],\n",
        "        \"Mastitis\": [\"swollen udder\", \"reduced milk\", \"pain\"],\n",
        "        \"Trypanosomiasis\": [\"weight loss\", \"lethargy\", \"fever\"],\n",
        "        \"Bloat\": [\"distended abdomen\", \"restlessness\", \"difficulty breathing\"],\n",
        "        \"Lumpy Skin Disease\": [\"nodules\", \"fever\", \"nasal discharge\", \"skin lumps\"],\n",
        "        \"Newcastle Disease\": [\"green diarrhea\", \"respiratory distress\", \"twisted neck\"],\n",
        "        \"East Coast Fever\": [\"swollen lymph nodes\", \"high fever\", \"labored breathing\"],\n",
        "\n",
        "\n",
        "        # 👉 Future extension: Add more disease rules here\n",
        "    }\n",
        "\n",
        "    detected = {}\n",
        "    symptoms_list = [s.strip().lower() for s in symptoms.split(\",\")]\n",
        "\n",
        "    for disease, keywords in rules.items():\n",
        "        matches = [kw for kw in keywords if kw in symptoms_list]\n",
        "        if matches:\n",
        "            detected[disease] = matches\n",
        "\n",
        "    return detected\n"
      ]
    },
    {
      "cell_type": "code",
      "source": [
        "# Advice for each disease\n",
        "def advice_from_disease(disease_name):\n",
        "    advice_map = {\n",
        "        \"Foot and Mouth Disease\": \"Isolate infected animals, notify vet, and disinfect the area.\",\n",
        "        \"Anthrax\": \"Avoid contact, notify authorities, and incinerate carcass safely.\",\n",
        "        \"Mastitis\": \"Administer antibiotics, massage udder, and maintain hygiene.\",\n",
        "        \"Trypanosomiasis\": \"Use trypanocidal drugs, manage vectors like tsetse flies.\",\n",
        "        \"Bloat\": \"Insert stomach tube, walk animal, consult vet immediately.\",\n",
        "        \"Lumpy Skin Disease\": \"Vaccinate early and isolate infected cattle immediately.\",\n",
        "        \"Newcastle Disease\": \"Cull infected poultry, disinfect area, and vaccinate survivors.\",\n",
        "        \"East Coast Fever\": \"Use anti-theilerial drugs and seek immediate veterinary care.\"\n",
        "\n",
        "        # 👉 Future: Add WHO/FAO guidelines or local ministry links\n",
        "    }\n",
        "    return advice_map.get(disease_name, \"Consult veterinary authorities for proper advice.\")\n"
      ],
      "metadata": {
        "id": "XRxAdYlihCNb"
      },
      "execution_count": 6,
      "outputs": []
    },
    {
      "cell_type": "code",
      "source": [
        "# Full diagnostic function\n",
        "def livestock_diagnosis_report(symptoms):\n",
        "    results = livestock_symptom_engine(symptoms)\n",
        "    report = []\n",
        "\n",
        "    for disease, matched in results.items():\n",
        "        report.append({\n",
        "            \"disease\": disease,\n",
        "            \"matched_symptoms\": matched,\n",
        "            \"advice\": advice_from_disease(disease)\n",
        "        })\n",
        "\n",
        "    return report\n"
      ],
      "metadata": {
        "id": "pmxKvEw8hGOK"
      },
      "execution_count": 7,
      "outputs": []
    },
    {
      "cell_type": "code",
      "source": [
        "# Example use case\n",
        "user_input = \"fever, salivation, lameness\"\n",
        "report = livestock_diagnosis_report(user_input)\n",
        "\n",
        "# Report formatting\n",
        "print(\"🐄 Livestock Diagnosis Report\")\n",
        "print(\"=\" * 35)\n",
        "for item in report:\n",
        "    print(f\"Disease: {item['disease']}\")\n",
        "    print(f\"Matched Symptoms: {', '.join(item['matched_symptoms'])}\")\n",
        "    print(f\"Advice: {item['advice']}\")\n",
        "    print(\"-\" * 35)\n"
      ],
      "metadata": {
        "colab": {
          "base_uri": "https://localhost:8080/"
        },
        "id": "rnon2bSWhMds",
        "outputId": "ca690e2d-2170-4a25-d652-5a1be2059f66"
      },
      "execution_count": 9,
      "outputs": [
        {
          "output_type": "stream",
          "name": "stdout",
          "text": [
            "🐄 Livestock Diagnosis Report\n",
            "===================================\n",
            "Disease: Foot and Mouth Disease\n",
            "Matched Symptoms: fever, salivation, lameness\n",
            "Advice: Isolate infected animals, notify vet, and disinfect the area.\n",
            "-----------------------------------\n",
            "Disease: Trypanosomiasis\n",
            "Matched Symptoms: fever\n",
            "Advice: Use trypanocidal drugs, manage vectors like tsetse flies.\n",
            "-----------------------------------\n",
            "Disease: Lumpy Skin Disease\n",
            "Matched Symptoms: fever\n",
            "Advice: Vaccinate early and isolate infected cattle immediately.\n",
            "-----------------------------------\n"
          ]
        }
      ]
    }
  ]
}